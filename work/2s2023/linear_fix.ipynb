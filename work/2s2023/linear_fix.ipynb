{
 "cells": [
  {
   "cell_type": "code",
   "execution_count": 1,
   "id": "913c6ce6",
   "metadata": {},
   "outputs": [
    {
     "data": {
      "text/html": [
       "<div>\n",
       "<style scoped>\n",
       "    .dataframe tbody tr th:only-of-type {\n",
       "        vertical-align: middle;\n",
       "    }\n",
       "\n",
       "    .dataframe tbody tr th {\n",
       "        vertical-align: top;\n",
       "    }\n",
       "\n",
       "    .dataframe thead th {\n",
       "        text-align: right;\n",
       "    }\n",
       "</style>\n",
       "<table border=\"1\" class=\"dataframe\">\n",
       "  <thead>\n",
       "    <tr style=\"text-align: right;\">\n",
       "      <th></th>\n",
       "      <th>NO</th>\n",
       "      <th>A</th>\n",
       "      <th>B</th>\n",
       "      <th>C</th>\n",
       "      <th>D</th>\n",
       "      <th>E</th>\n",
       "    </tr>\n",
       "  </thead>\n",
       "  <tbody>\n",
       "    <tr>\n",
       "      <th>0</th>\n",
       "      <td>1</td>\n",
       "      <td>10.5</td>\n",
       "      <td>1</td>\n",
       "      <td>400.5</td>\n",
       "      <td>True</td>\n",
       "      <td>N</td>\n",
       "    </tr>\n",
       "    <tr>\n",
       "      <th>1</th>\n",
       "      <td>2</td>\n",
       "      <td>9.8</td>\n",
       "      <td>5</td>\n",
       "      <td>405.8</td>\n",
       "      <td>False</td>\n",
       "      <td>P</td>\n",
       "    </tr>\n",
       "    <tr>\n",
       "      <th>2</th>\n",
       "      <td>3</td>\n",
       "      <td>11.2</td>\n",
       "      <td>20</td>\n",
       "      <td>410.9</td>\n",
       "      <td>False</td>\n",
       "      <td>P</td>\n",
       "    </tr>\n",
       "    <tr>\n",
       "      <th>3</th>\n",
       "      <td>4</td>\n",
       "      <td>9.2</td>\n",
       "      <td>60</td>\n",
       "      <td>425.4</td>\n",
       "      <td>False</td>\n",
       "      <td>N</td>\n",
       "    </tr>\n",
       "    <tr>\n",
       "      <th>4</th>\n",
       "      <td>5</td>\n",
       "      <td>9.1</td>\n",
       "      <td>90</td>\n",
       "      <td>450.1</td>\n",
       "      <td>True</td>\n",
       "      <td>P</td>\n",
       "    </tr>\n",
       "    <tr>\n",
       "      <th>5</th>\n",
       "      <td>6</td>\n",
       "      <td>10.8</td>\n",
       "      <td>120</td>\n",
       "      <td>500.5</td>\n",
       "      <td>True</td>\n",
       "      <td>P</td>\n",
       "    </tr>\n",
       "    <tr>\n",
       "      <th>6</th>\n",
       "      <td>7</td>\n",
       "      <td>11.5</td>\n",
       "      <td>180</td>\n",
       "      <td>575.7</td>\n",
       "      <td>False</td>\n",
       "      <td>N</td>\n",
       "    </tr>\n",
       "    <tr>\n",
       "      <th>7</th>\n",
       "      <td>8</td>\n",
       "      <td>11.2</td>\n",
       "      <td>220</td>\n",
       "      <td>456.5</td>\n",
       "      <td>True</td>\n",
       "      <td>P</td>\n",
       "    </tr>\n",
       "    <tr>\n",
       "      <th>8</th>\n",
       "      <td>9</td>\n",
       "      <td>10.3</td>\n",
       "      <td>340</td>\n",
       "      <td>320.1</td>\n",
       "      <td>True</td>\n",
       "      <td>N</td>\n",
       "    </tr>\n",
       "    <tr>\n",
       "      <th>9</th>\n",
       "      <td>10</td>\n",
       "      <td>9.7</td>\n",
       "      <td>410</td>\n",
       "      <td>221.9</td>\n",
       "      <td>False</td>\n",
       "      <td>P</td>\n",
       "    </tr>\n",
       "  </tbody>\n",
       "</table>\n",
       "</div>"
      ],
      "text/plain": [
       "   NO     A    B      C      D  E\n",
       "0   1  10.5    1  400.5   True  N\n",
       "1   2   9.8    5  405.8  False  P\n",
       "2   3  11.2   20  410.9  False  P\n",
       "3   4   9.2   60  425.4  False  N\n",
       "4   5   9.1   90  450.1   True  P\n",
       "5   6  10.8  120  500.5   True  P\n",
       "6   7  11.5  180  575.7  False  N\n",
       "7   8  11.2  220  456.5   True  P\n",
       "8   9  10.3  340  320.1   True  N\n",
       "9  10   9.7  410  221.9  False  P"
      ]
     },
     "execution_count": 1,
     "metadata": {},
     "output_type": "execute_result"
    }
   ],
   "source": [
    "import pandas as pd\n",
    "import numpy as np\n",
    "\n",
    "df = pd.read_csv('./work/2s2023/pred.csv')\n",
    "df"
   ]
  },
  {
   "cell_type": "code",
   "execution_count": 22,
   "id": "2d9c89b0",
   "metadata": {},
   "outputs": [
    {
     "data": {
      "text/plain": [
       "array([[10.5],\n",
       "       [ 9.8],\n",
       "       [11.2],\n",
       "       [ 9.2],\n",
       "       [ 9.1],\n",
       "       [10.8],\n",
       "       [11.5],\n",
       "       [11.2],\n",
       "       [10.3],\n",
       "       [ 9.7]])"
      ]
     },
     "execution_count": 22,
     "metadata": {},
     "output_type": "execute_result"
    }
   ],
   "source": [
    "X = np.asarray(df[\"A\"]).reshape(-1, 1)\n",
    "X"
   ]
  },
  {
   "cell_type": "code",
   "execution_count": 27,
   "id": "e4365145",
   "metadata": {},
   "outputs": [
    {
     "data": {
      "text/plain": [
       "array([400.5, 405.8, 410.9, 425.4, 450.1, 500.5, 575.7, 456.5, 320.1,\n",
       "       221.9])"
      ]
     },
     "execution_count": 27,
     "metadata": {},
     "output_type": "execute_result"
    }
   ],
   "source": [
    "y = np.asarray(df[\"C\"])\n",
    "y"
   ]
  },
  {
   "cell_type": "code",
   "execution_count": 28,
   "id": "30db6f49",
   "metadata": {},
   "outputs": [
    {
     "data": {
      "text/plain": [
       "{'copy_X': True, 'fit_intercept': True, 'n_jobs': None, 'positive': False}"
      ]
     },
     "execution_count": 28,
     "metadata": {},
     "output_type": "execute_result"
    }
   ],
   "source": [
    "from sklearn import linear_model\n",
    "\n",
    "model = linear_model.LinearRegression()\n",
    "model.fit(X,y)\n",
    "model.get_params()"
   ]
  },
  {
   "cell_type": "markdown",
   "id": "eda90c27",
   "metadata": {},
   "source": [
    "Predecir"
   ]
  },
  {
   "cell_type": "code",
   "execution_count": 29,
   "id": "310d67da",
   "metadata": {},
   "outputs": [
    {
     "data": {
      "text/plain": [
       "array([425.30896834, 390.02498106, 460.59295561, 359.7815634 ,\n",
       "       354.74099379, 440.43067717, 475.71466444, 460.59295561,\n",
       "       415.22782912, 384.98441145])"
      ]
     },
     "execution_count": 29,
     "metadata": {},
     "output_type": "execute_result"
    }
   ],
   "source": [
    "y_pred = model.predict(X)\n",
    "y_pred"
   ]
  },
  {
   "cell_type": "markdown",
   "id": "6dc78cdb",
   "metadata": {},
   "source": [
    "Graficar"
   ]
  },
  {
   "cell_type": "code",
   "execution_count": 30,
   "id": "8443ec20",
   "metadata": {},
   "outputs": [
    {
     "data": {
      "image/png": "[encoded data removed]",
      "text/plain": [
       "<Figure size 640x480 with 1 Axes>"
      ]
     },
     "metadata": {},
     "output_type": "display_data"
    }
   ],
   "source": [
    "import matplotlib.pyplot as plt\n",
    "\n",
    "plt.scatter(X,y, color='red')\n",
    "plt.plot(X,y_pred, color='blue', linewidth=2)\n",
    "plt.show()\n"
   ]
  },
  {
   "cell_type": "code",
   "execution_count": 31,
   "id": "881e74ad",
   "metadata": {},
   "outputs": [
    {
     "data": {
      "text/plain": [
       "6600.0817545826385"
      ]
     },
     "execution_count": 31,
     "metadata": {},
     "output_type": "execute_result"
    }
   ],
   "source": [
    "from sklearn.metrics import mean_squared_error\n",
    "\n",
    "mean_squared_error(y,y_pred)"
   ]
  },
  {
   "cell_type": "markdown",
   "id": "bb9308be",
   "metadata": {},
   "source": [
    "Predecir con el funcion"
   ]
  },
  {
   "cell_type": "code",
   "execution_count": 32,
   "id": "7d09e53a",
   "metadata": {},
   "outputs": [
    {
     "data": {
      "text/plain": [
       "array([400.10612028,  97.67194364,  -3.13944857])"
      ]
     },
     "execution_count": 32,
     "metadata": {},
     "output_type": "execute_result"
    }
   ],
   "source": [
    "to_predict = [[10],[4],[2]]\n",
    "\n",
    "model.predict([[10],[4],[2]])"
   ]
  },
  {
   "cell_type": "code",
   "execution_count": 33,
   "id": "b141cb88",
   "metadata": {},
   "outputs": [
    {
     "data": {
      "text/plain": [
       "array([[400.10612028],\n",
       "       [ 97.67194364],\n",
       "       [ -3.13944857]])"
      ]
     },
     "execution_count": 33,
     "metadata": {},
     "output_type": "execute_result"
    }
   ],
   "source": [
    "model.coef_ * to_predict + model.intercept_"
   ]
  },
  {
   "cell_type": "markdown",
   "id": "1cf84f44",
   "metadata": {},
   "source": [
    "Ver info de la funcion linea"
   ]
  },
  {
   "cell_type": "code",
   "execution_count": 34,
   "id": "1b4228f5",
   "metadata": {},
   "outputs": [
    {
     "data": {
      "text/plain": [
       "array([50.40569611])"
      ]
     },
     "execution_count": 34,
     "metadata": {},
     "output_type": "execute_result"
    }
   ],
   "source": [
    "model.coef_"
   ]
  },
  {
   "cell_type": "code",
   "execution_count": 35,
   "id": "ec53c162",
   "metadata": {},
   "outputs": [
    {
     "data": {
      "text/plain": [
       "-103.95084078169992"
      ]
     },
     "execution_count": 35,
     "metadata": {},
     "output_type": "execute_result"
    }
   ],
   "source": [
    "model.intercept_"
   ]
  }
 ],
 "metadata": {
  "kernelspec": {
   "display_name": "Python 3 (ipykernel)",
   "language": "python",
   "name": "python3"
  },
  "language_info": {
   "codemirror_mode": {
    "name": "ipython",
    "version": 3
   },
   "file_extension": ".py",
   "mimetype": "text/x-python",
   "name": "python",
   "nbconvert_exporter": "python",
   "pygments_lexer": "ipython3",
   "version": "3.11.5"
  }
 },
 "nbformat": 4,
 "nbformat_minor": 5
}
