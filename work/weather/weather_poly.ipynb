{
 "cells": [
  {
   "cell_type": "code",
   "execution_count": 23,
   "id": "267aade1-5e4a-4395-b2bb-6b9dcf69e71c",
   "metadata": {},
   "outputs": [
    {
     "data": {
      "text/html": [
       "<div>\n",
       "<style scoped>\n",
       "    .dataframe tbody tr th:only-of-type {\n",
       "        vertical-align: middle;\n",
       "    }\n",
       "\n",
       "    .dataframe tbody tr th {\n",
       "        vertical-align: top;\n",
       "    }\n",
       "\n",
       "    .dataframe thead th {\n",
       "        text-align: right;\n",
       "    }\n",
       "</style>\n",
       "<table border=\"1\" class=\"dataframe\">\n",
       "  <thead>\n",
       "    <tr style=\"text-align: right;\">\n",
       "      <th></th>\n",
       "      <th>Unnamed: 0</th>\n",
       "      <th>Unnamed: 1</th>\n",
       "      <th>Humidity</th>\n",
       "    </tr>\n",
       "  </thead>\n",
       "  <tbody>\n",
       "    <tr>\n",
       "      <th>1</th>\n",
       "      <td>0</td>\n",
       "      <td>1014.4</td>\n",
       "      <td>0.62</td>\n",
       "    </tr>\n",
       "    <tr>\n",
       "      <th>2</th>\n",
       "      <td>1</td>\n",
       "      <td>1014.2</td>\n",
       "      <td>0.66</td>\n",
       "    </tr>\n",
       "    <tr>\n",
       "      <th>3</th>\n",
       "      <td>2</td>\n",
       "      <td>1014.47</td>\n",
       "      <td>0.79</td>\n",
       "    </tr>\n",
       "    <tr>\n",
       "      <th>4</th>\n",
       "      <td>3</td>\n",
       "      <td>1014.45</td>\n",
       "      <td>0.82</td>\n",
       "    </tr>\n",
       "    <tr>\n",
       "      <th>5</th>\n",
       "      <td>4</td>\n",
       "      <td>1014.49</td>\n",
       "      <td>0.83</td>\n",
       "    </tr>\n",
       "  </tbody>\n",
       "</table>\n",
       "</div>"
      ],
      "text/plain": [
       "  Unnamed: 0 Unnamed: 1  Humidity\n",
       "1          0     1014.4      0.62\n",
       "2          1     1014.2      0.66\n",
       "3          2    1014.47      0.79\n",
       "4          3    1014.45      0.82\n",
       "5          4    1014.49      0.83"
      ]
     },
     "execution_count": 23,
     "metadata": {},
     "output_type": "execute_result"
    }
   ],
   "source": [
    "import pandas as pd\n",
    "\n",
    "df = pd.read_excel(\"./weather/weather.xlsx\")\n",
    "\n",
    "df = df.drop(index=0)\n",
    "df.head()"
   ]
  },
  {
   "cell_type": "code",
   "execution_count": 13,
   "id": "6e856f73-f29d-452c-a4d5-bb9f33556557",
   "metadata": {},
   "outputs": [
    {
     "name": "stdout",
     "output_type": "stream",
     "text": [
      "[[1014.4]\n",
      " [1014.2]\n",
      " [1014.47]\n",
      " [1014.45]\n",
      " [1014.49]\n",
      " [1014.52]\n",
      " [1014.16]\n",
      " [1014.24]\n",
      " [1014.25]\n",
      " [1013.96]\n",
      " [1013.85]\n",
      " [1013.04]\n",
      " [1012.22]\n",
      " [1011.44]\n",
      " [1010.52]\n",
      " [1009.83]\n",
      " [1009.26]\n",
      " [1008.76]\n",
      " [1008.36]\n",
      " [1008.11]\n",
      " [1008.15]\n",
      " [1007.85]\n",
      " [1007.89]\n",
      " [1007.36]\n",
      " [1007.26]]\n",
      "[0.62 0.66 0.79 0.82 0.83 0.85 0.83 0.78 0.72 0.61 0.52 0.46 0.4  0.4\n",
      " 0.37 0.4  0.36 0.43 0.5  0.53 0.55 0.58 0.59 0.6  0.63]\n"
     ]
    }
   ],
   "source": [
    "import numpy as np\n",
    "\n",
    "X = np.array(df.iloc[:,1]).reshape(-1,1)\n",
    "print(X)\n",
    "\n",
    "y = np.array(df.iloc[:,2])\n",
    "print(y)"
   ]
  },
  {
   "cell_type": "code",
   "execution_count": 18,
   "id": "197766ef-f5b3-40c3-98aa-66dc2518256b",
   "metadata": {},
   "outputs": [],
   "source": [
    "from sklearn.linear_model import LinearRegression\n",
    "from sklearn.preprocessing import PolynomialFeatures\n",
    "\n",
    "poly = PolynomialFeatures(degree=2)\n",
    "features = poly.fit_transform(X)\n",
    "\n",
    "model = LinearRegression()\n",
    "\n",
    "model.fit(features, y)\n",
    "\n",
    "y_pred = model.predict(features)\n"
   ]
  },
  {
   "cell_type": "code",
   "execution_count": 19,
   "id": "473b27b3-88de-406b-9e7c-c2ff288365f2",
   "metadata": {},
   "outputs": [
    {
     "data": {
      "image/png": "[encoded data removed]",
      "text/plain": [
       "<Figure size 640x480 with 1 Axes>"
      ]
     },
     "metadata": {},
     "output_type": "display_data"
    }
   ],
   "source": [
    "import matplotlib.pyplot as plt\n",
    "\n",
    "plt.scatter(X,y)\n",
    "\n",
    "plt.plot(X,y_pred)\n",
    "plt.show()"
   ]
  },
  {
   "cell_type": "code",
   "execution_count": 20,
   "id": "48ec98bd-e5db-42af-8b75-7a2d6b6ec900",
   "metadata": {},
   "outputs": [
    {
     "data": {
      "text/plain": [
       "0.8616233381649783"
      ]
     },
     "execution_count": 20,
     "metadata": {},
     "output_type": "execute_result"
    }
   ],
   "source": [
    "from sklearn.metrics import r2_score\n",
    "\n",
    "r2_score(y, y_pred)"
   ]
  }
 ],
 "metadata": {
  "kernelspec": {
   "display_name": "Python 3 (ipykernel)",
   "language": "python",
   "name": "python3"
  },
  "language_info": {
   "codemirror_mode": {
    "name": "ipython",
    "version": 3
   },
   "file_extension": ".py",
   "mimetype": "text/x-python",
   "name": "python",
   "nbconvert_exporter": "python",
   "pygments_lexer": "ipython3",
   "version": "3.11.5"
  }
 },
 "nbformat": 4,
 "nbformat_minor": 5
}
