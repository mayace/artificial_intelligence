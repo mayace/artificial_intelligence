{
 "cells": [
  {
   "cell_type": "code",
   "execution_count": 4,
   "id": "213d3ad5-b74d-46b2-b0cc-9ba0165646a9",
   "metadata": {},
   "outputs": [
    {
     "data": {
      "text/html": [
       "<div>\n",
       "<style scoped>\n",
       "    .dataframe tbody tr th:only-of-type {\n",
       "        vertical-align: middle;\n",
       "    }\n",
       "\n",
       "    .dataframe tbody tr th {\n",
       "        vertical-align: top;\n",
       "    }\n",
       "\n",
       "    .dataframe thead th {\n",
       "        text-align: right;\n",
       "    }\n",
       "</style>\n",
       "<table border=\"1\" class=\"dataframe\">\n",
       "  <thead>\n",
       "    <tr style=\"text-align: right;\">\n",
       "      <th></th>\n",
       "      <th>year</th>\n",
       "      <th>population</th>\n",
       "    </tr>\n",
       "  </thead>\n",
       "  <tbody>\n",
       "    <tr>\n",
       "      <th>0</th>\n",
       "      <td>1790</td>\n",
       "      <td>3.929</td>\n",
       "    </tr>\n",
       "    <tr>\n",
       "      <th>1</th>\n",
       "      <td>1800</td>\n",
       "      <td>5.308</td>\n",
       "    </tr>\n",
       "    <tr>\n",
       "      <th>2</th>\n",
       "      <td>1810</td>\n",
       "      <td>7.240</td>\n",
       "    </tr>\n",
       "    <tr>\n",
       "      <th>3</th>\n",
       "      <td>1820</td>\n",
       "      <td>9.638</td>\n",
       "    </tr>\n",
       "    <tr>\n",
       "      <th>4</th>\n",
       "      <td>1830</td>\n",
       "      <td>12.866</td>\n",
       "    </tr>\n",
       "  </tbody>\n",
       "</table>\n",
       "</div>"
      ],
      "text/plain": [
       "   year  population\n",
       "0  1790       3.929\n",
       "1  1800       5.308\n",
       "2  1810       7.240\n",
       "3  1820       9.638\n",
       "4  1830      12.866"
      ]
     },
     "execution_count": 4,
     "metadata": {},
     "output_type": "execute_result"
    }
   ],
   "source": [
    "import pandas as pd\n",
    "\n",
    "df = pd.read_csv(\"./us_census.txt\", sep=\"\\t\")\n",
    "df.head()"
   ]
  },
  {
   "cell_type": "code",
   "execution_count": 10,
   "id": "7f4004b4-fe5b-4f19-af65-a43b898b430f",
   "metadata": {},
   "outputs": [
    {
     "name": "stdout",
     "output_type": "stream",
     "text": [
      "[[1790]\n",
      " [1800]\n",
      " [1810]\n",
      " [1820]\n",
      " [1830]\n",
      " [1840]\n",
      " [1850]\n",
      " [1860]\n",
      " [1870]\n",
      " [1880]\n",
      " [1890]\n",
      " [1900]\n",
      " [1910]\n",
      " [1920]\n",
      " [1930]\n",
      " [1940]\n",
      " [1950]\n",
      " [1960]\n",
      " [1970]\n",
      " [1980]\n",
      " [1990]]\n",
      "[  3.929   5.308   7.24    9.638  12.866  17.069  23.192  31.443  39.818\n",
      "  50.156  62.948  75.995  91.972 105.711 122.775 131.669 150.697 179.323\n",
      " 203.302 226.542 248.71 ]\n"
     ]
    }
   ],
   "source": [
    "import numpy as np\n",
    "\n",
    "X = np.array(df[\"year\"]).reshape(-1,1)\n",
    "y = np.array(df[\"population\"])\n",
    "\n",
    "print(X)\n",
    "print(y)\n"
   ]
  },
  {
   "cell_type": "code",
   "execution_count": 16,
   "id": "d095d796-c56d-4d80-ad88-832f0befc82e",
   "metadata": {},
   "outputs": [],
   "source": [
    "from sklearn.preprocessing import PolynomialFeatures\n",
    "from sklearn.linear_model import LinearRegression\n",
    "\n",
    "poly = PolynomialFeatures(degree=2)\n",
    "features = poly.fit_transform(X)\n",
    "\n",
    "model = LinearRegression()\n",
    "model.fit(features, y)\n",
    "\n",
    "y_pred = model.predict(features)\n"
   ]
  },
  {
   "cell_type": "code",
   "execution_count": 17,
   "id": "4dfec3d3-1864-41b7-9263-4a80854db6a4",
   "metadata": {},
   "outputs": [
    {
     "data": {
      "image/png": "[encoded data removed]",
      "text/plain": [
       "<Figure size 640x480 with 1 Axes>"
      ]
     },
     "metadata": {},
     "output_type": "display_data"
    }
   ],
   "source": [
    "import matplotlib.pyplot as plt\n",
    "\n",
    "plt.scatter(X, y)\n",
    "plt.plot(X,y_pred)\n",
    "plt.show()"
   ]
  },
  {
   "cell_type": "code",
   "execution_count": 18,
   "id": "ac63ff5e-2d07-428e-9148-25c2aa66e85f",
   "metadata": {},
   "outputs": [
    {
     "data": {
      "text/plain": [
       "0.9988141412126713"
      ]
     },
     "execution_count": 18,
     "metadata": {},
     "output_type": "execute_result"
    }
   ],
   "source": [
    "from sklearn.metrics import r2_score\n",
    "\n",
    "\n",
    "r2_score(y,y_pred)"
   ]
  },
  {
   "cell_type": "code",
   "execution_count": 19,
   "id": "55ee1072-e4bb-44e1-9aff-cfdb4b251634",
   "metadata": {},
   "outputs": [
    {
     "data": {
      "text/plain": [
       "array([335.46910804, 338.4072164 , 341.35833821, 359.33835121,\n",
       "       603.72091022])"
      ]
     },
     "execution_count": 19,
     "metadata": {},
     "output_type": "execute_result"
    }
   ],
   "source": [
    "to_predict = [[2022],[2023],[2024],[2030], [2100]]\n",
    "\n",
    "to_predict_features = poly.fit_transform(to_predict)\n",
    "\n",
    "model.predict(to_predict_features)\n"
   ]
  }
 ],
 "metadata": {
  "kernelspec": {
   "display_name": "Python 3 (ipykernel)",
   "language": "python",
   "name": "python3"
  },
  "language_info": {
   "codemirror_mode": {
    "name": "ipython",
    "version": 3
   },
   "file_extension": ".py",
   "mimetype": "text/x-python",
   "name": "python",
   "nbconvert_exporter": "python",
   "pygments_lexer": "ipython3",
   "version": "3.11.5"
  }
 },
 "nbformat": 4,
 "nbformat_minor": 5
}
