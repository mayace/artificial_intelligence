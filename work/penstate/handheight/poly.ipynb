{
 "cells": [
  {
   "cell_type": "code",
   "execution_count": 1,
   "id": "9f19b447-54f6-46bd-8d25-e796d8a50661",
   "metadata": {},
   "outputs": [
    {
     "data": {
      "text/html": [
       "<div>\n",
       "<style scoped>\n",
       "    .dataframe tbody tr th:only-of-type {\n",
       "        vertical-align: middle;\n",
       "    }\n",
       "\n",
       "    .dataframe tbody tr th {\n",
       "        vertical-align: top;\n",
       "    }\n",
       "\n",
       "    .dataframe thead th {\n",
       "        text-align: right;\n",
       "    }\n",
       "</style>\n",
       "<table border=\"1\" class=\"dataframe\">\n",
       "  <thead>\n",
       "    <tr style=\"text-align: right;\">\n",
       "      <th></th>\n",
       "      <th>Sex</th>\n",
       "      <th>Height</th>\n",
       "      <th>HandSpan</th>\n",
       "    </tr>\n",
       "  </thead>\n",
       "  <tbody>\n",
       "    <tr>\n",
       "      <th>0</th>\n",
       "      <td>Female</td>\n",
       "      <td>68.0</td>\n",
       "      <td>21.5</td>\n",
       "    </tr>\n",
       "    <tr>\n",
       "      <th>1</th>\n",
       "      <td>Male</td>\n",
       "      <td>71.0</td>\n",
       "      <td>23.5</td>\n",
       "    </tr>\n",
       "    <tr>\n",
       "      <th>2</th>\n",
       "      <td>Male</td>\n",
       "      <td>73.0</td>\n",
       "      <td>22.5</td>\n",
       "    </tr>\n",
       "    <tr>\n",
       "      <th>3</th>\n",
       "      <td>Female</td>\n",
       "      <td>64.0</td>\n",
       "      <td>18.0</td>\n",
       "    </tr>\n",
       "    <tr>\n",
       "      <th>4</th>\n",
       "      <td>Male</td>\n",
       "      <td>68.0</td>\n",
       "      <td>23.5</td>\n",
       "    </tr>\n",
       "  </tbody>\n",
       "</table>\n",
       "</div>"
      ],
      "text/plain": [
       "      Sex  Height  HandSpan\n",
       "0  Female    68.0      21.5\n",
       "1    Male    71.0      23.5\n",
       "2    Male    73.0      22.5\n",
       "3  Female    64.0      18.0\n",
       "4    Male    68.0      23.5"
      ]
     },
     "execution_count": 1,
     "metadata": {},
     "output_type": "execute_result"
    }
   ],
   "source": [
    "import pandas as pd\n",
    "\n",
    "df = pd.read_csv(\"./handheight.txt\", sep=\"\\t\")\n",
    "df.head()"
   ]
  },
  {
   "cell_type": "code",
   "execution_count": 2,
   "id": "4f2da982-0d5f-4cc2-bf73-b4147472c728",
   "metadata": {},
   "outputs": [
    {
     "name": "stdout",
     "output_type": "stream",
     "text": [
      "     Sex  Height\n",
      "0      0    68.0\n",
      "1      1    71.0\n",
      "2      1    73.0\n",
      "3      0    64.0\n",
      "4      1    68.0\n",
      "..   ...     ...\n",
      "162    0    60.0\n",
      "163    1    73.0\n",
      "164    0    66.0\n",
      "165    0    68.0\n",
      "166    1    73.0\n",
      "\n",
      "[167 rows x 2 columns]\n",
      "0      21.5\n",
      "1      23.5\n",
      "2      22.5\n",
      "3      18.0\n",
      "4      23.5\n",
      "       ... \n",
      "162    17.0\n",
      "163    23.0\n",
      "164    18.5\n",
      "165    21.0\n",
      "166    21.0\n",
      "Name: HandSpan, Length: 167, dtype: float64\n"
     ]
    }
   ],
   "source": [
    "import numpy as np\n",
    "from sklearn.preprocessing import LabelEncoder\n",
    "\n",
    "le = LabelEncoder()\n",
    "\n",
    "X = df.drop(columns=[\"HandSpan\"])\n",
    "X[\"Sex\"] = le.fit_transform(df[\"Sex\"])\n",
    "y = df[\"HandSpan\"]\n",
    "\n",
    "print(X)\n",
    "print(y)"
   ]
  },
  {
   "cell_type": "code",
   "execution_count": 3,
   "id": "6ac4a740-5561-4286-a856-77ee0a1fdcef",
   "metadata": {},
   "outputs": [],
   "source": [
    "from sklearn.preprocessing import PolynomialFeatures\n",
    "from sklearn.linear_model import LinearRegression\n",
    "\n",
    "poly = PolynomialFeatures(degree=9)\n",
    "features = poly.fit_transform(X)\n",
    "\n",
    "model = LinearRegression()\n",
    "\n",
    "model.fit(features,y)\n",
    "\n",
    "y_pred = model.predict(features)"
   ]
  },
  {
   "cell_type": "code",
   "execution_count": 2,
   "id": "f1793a76-2bf1-4179-8e40-c2b1893b0ee2",
   "metadata": {},
   "outputs": [
    {
     "data": {
      "image/png": "[encoded data removed]",
      "text/plain": [
       "<Figure size 640x480 with 1 Axes>"
      ]
     },
     "metadata": {},
     "output_type": "display_data"
    }
   ],
   "source": [
    "import matplotlib.pyplot as plt\n",
    "\n",
    "plt.scatter(df[\"Height\"], df[\"HandSpan\"])\n",
    "plt.show()"
   ]
  },
  {
   "cell_type": "code",
   "execution_count": 4,
   "id": "5b91abd3-10dd-4fbb-bc60-d1abb36d4ee4",
   "metadata": {},
   "outputs": [
    {
     "name": "stdout",
     "output_type": "stream",
     "text": [
      "0.632702602432295\n",
      "1.3555524718760068\n"
     ]
    }
   ],
   "source": [
    "from sklearn.metrics import r2_score, mean_squared_error\n",
    "\n",
    "print(r2_score(y,y_pred))\n",
    "print(mean_squared_error(y,y_pred))"
   ]
  },
  {
   "cell_type": "code",
   "execution_count": 7,
   "id": "138c15c6-2374-42b2-bae4-8924a7663078",
   "metadata": {},
   "outputs": [
    {
     "data": {
      "text/plain": [
       "array([20.19009203])"
      ]
     },
     "execution_count": 7,
     "metadata": {},
     "output_type": "execute_result"
    }
   ],
   "source": [
    "predict = [[0,68]]\n",
    "predict_features = poly.fit_transform(predict)\n",
    "\n",
    "model.predict(predict_features)"
   ]
  }
 ],
 "metadata": {
  "kernelspec": {
   "display_name": "Python 3 (ipykernel)",
   "language": "python",
   "name": "python3"
  },
  "language_info": {
   "codemirror_mode": {
    "name": "ipython",
    "version": 3
   },
   "file_extension": ".py",
   "mimetype": "text/x-python",
   "name": "python",
   "nbconvert_exporter": "python",
   "pygments_lexer": "ipython3",
   "version": "3.11.5"
  }
 },
 "nbformat": 4,
 "nbformat_minor": 5
}
