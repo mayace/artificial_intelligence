{
 "cells": [
  {
   "cell_type": "code",
   "execution_count": 2,
   "metadata": {},
   "outputs": [],
   "source": [
    "a = [\n",
    "    \"sunny\",\n",
    "    \"sunny\",\n",
    "    \"overcast\",\n",
    "    \"rain\",\n",
    "    \"rain\",\n",
    "    \"rain\",\n",
    "    \"overcast\",\n",
    "    \"sunny\",\n",
    "    \"sunny\",\n",
    "    \"rain\",\n",
    "    \"sunny\",\n",
    "    \"overcast\",\n",
    "    \"overcast\",\n",
    "    \"rain\",\n",
    "]\n",
    "b = [\n",
    "    \"hot\",\n",
    "    \"hot\",\n",
    "    \"hot\",\n",
    "    \"mild\",\n",
    "    \"cold\",\n",
    "    \"cold\",\n",
    "    \"cold\",\n",
    "    \"mild\",\n",
    "    \"cold\",\n",
    "    \"mild\",\n",
    "    \"mild\",\n",
    "    \"mild\",\n",
    "    \"hot\",\n",
    "    \"mild\",\n",
    "]\n",
    "c = [\n",
    "    \"high\",\n",
    "    \"high\",\n",
    "    \"high\",\n",
    "    \"high\",\n",
    "    \"normal\",\n",
    "    \"normal\",\n",
    "    \"normal\",\n",
    "    \"high\",\n",
    "    \"normal\",\n",
    "    \"normal\",\n",
    "    \"normal\",\n",
    "    \"high\",\n",
    "    \"normal\",\n",
    "    \"high\",\n",
    "]\n",
    "\n",
    "d = [\n",
    "    \"false\",\n",
    "    \"true\",\n",
    "    \"false\",\n",
    "    \"false\",\n",
    "    \"false\",\n",
    "    \"true\",\n",
    "    \"true\",\n",
    "    \"false\",\n",
    "    \"false\",\n",
    "    \"false\",\n",
    "    \"true\",\n",
    "    \"true\",\n",
    "    \"false\",\n",
    "    \"true\",\n",
    "]\n",
    "\n",
    "y = [\n",
    "    \"N\",\n",
    "    \"N\",\n",
    "    \"P\",\n",
    "    \"P\",\n",
    "    \"P\",\n",
    "    \"N\",\n",
    "    \"P\",\n",
    "    \"N\",\n",
    "    \"P\",\n",
    "    \"P\",\n",
    "    \"P\",\n",
    "    \"P\",\n",
    "    \"P\",\n",
    "    \"N\",\n",
    "]"
   ]
  },
  {
   "cell_type": "code",
   "execution_count": 3,
   "metadata": {},
   "outputs": [
    {
     "name": "stdout",
     "output_type": "stream",
     "text": [
      "a [2 2 0 1 1 1 0 2 2 1 2 0 0 1]\n",
      "b [1 1 1 2 0 0 0 2 0 2 2 2 1 2]\n",
      "c [0 0 0 0 1 1 1 0 1 1 1 0 1 0]\n",
      "d [0 1 0 0 0 1 1 0 0 0 1 1 0 1]\n",
      "y [0 0 1 1 1 0 1 0 1 1 1 1 1 0]\n"
     ]
    }
   ],
   "source": [
    "from sklearn import preprocessing\n",
    "\n",
    "le = preprocessing.LabelEncoder()\n",
    "\n",
    "a_encoded = le.fit_transform(a)\n",
    "b_encoded = le.fit_transform(b)\n",
    "c_encoded = le.fit_transform(c)\n",
    "d_encoded = le.fit_transform(d)\n",
    "y_encoded = le.fit_transform(y)\n",
    "\n",
    "print(\"a\", a_encoded)\n",
    "print(\"b\", b_encoded)\n",
    "print(\"c\", c_encoded)\n",
    "print(\"d\", d_encoded)\n",
    "print(\"y\", y_encoded)"
   ]
  },
  {
   "cell_type": "code",
   "execution_count": 4,
   "metadata": {},
   "outputs": [
    {
     "data": {
      "text/plain": [
       "[(2, 1, 0, 0),\n",
       " (2, 1, 0, 1),\n",
       " (0, 1, 0, 0),\n",
       " (1, 2, 0, 0),\n",
       " (1, 0, 1, 0),\n",
       " (1, 0, 1, 1),\n",
       " (0, 0, 1, 1),\n",
       " (2, 2, 0, 0),\n",
       " (2, 0, 1, 0),\n",
       " (1, 2, 1, 0),\n",
       " (2, 2, 1, 1),\n",
       " (0, 2, 0, 1),\n",
       " (0, 1, 1, 0),\n",
       " (1, 2, 0, 1)]"
      ]
     },
     "execution_count": 4,
     "metadata": {},
     "output_type": "execute_result"
    }
   ],
   "source": [
    "features = list(zip(a_encoded, b_encoded, c_encoded, d_encoded))\n",
    "features"
   ]
  },
  {
   "cell_type": "code",
   "execution_count": 5,
   "metadata": {},
   "outputs": [],
   "source": [
    "from sklearn.naive_bayes import GaussianNB\n",
    "\n",
    "model = GaussianNB()\n",
    "model = model.fit(features, y_encoded)"
   ]
  },
  {
   "cell_type": "markdown",
   "metadata": {},
   "source": [
    "Graficar arbol"
   ]
  },
  {
   "cell_type": "code",
   "execution_count": 7,
   "metadata": {},
   "outputs": [
    {
     "data": {
      "text/plain": [
       "{'priors': None, 'var_smoothing': 1e-09}"
      ]
     },
     "execution_count": 7,
     "metadata": {},
     "output_type": "execute_result"
    }
   ],
   "source": [
    "model.get_params()"
   ]
  },
  {
   "cell_type": "code",
   "execution_count": 12,
   "metadata": {},
   "outputs": [
    {
     "name": "stdout",
     "output_type": "stream",
     "text": [
      "original\t [0 0 1 1 1 0 1 0 1 1 1 1 1 0]\n",
      "bayes\t\t [0 0 1 1 1 1 1 0 1 1 1 1 1 0]\n"
     ]
    }
   ],
   "source": [
    "print(\"original\\t\", y_encoded)\n",
    "print(\"bayes\\t\\t\", model.predict(features))"
   ]
  },
  {
   "cell_type": "code",
   "execution_count": 9,
   "metadata": {},
   "outputs": [
    {
     "data": {
      "text/plain": [
       "array([0])"
      ]
     },
     "execution_count": 9,
     "metadata": {},
     "output_type": "execute_result"
    }
   ],
   "source": [
    "model.predict([[2,1,0,0]])"
   ]
  }
 ],
 "metadata": {
  "kernelspec": {
   "display_name": "Python 3 (ipykernel)",
   "language": "python",
   "name": "python3"
  },
  "language_info": {
   "codemirror_mode": {
    "name": "ipython",
    "version": 3
   },
   "file_extension": ".py",
   "mimetype": "text/x-python",
   "name": "python",
   "nbconvert_exporter": "python",
   "pygments_lexer": "ipython3",
   "version": "3.11.5"
  }
 },
 "nbformat": 4,
 "nbformat_minor": 2
}
